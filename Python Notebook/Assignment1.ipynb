{
 "cells": [
  {
   "cell_type": "markdown",
   "id": "41ec209c",
   "metadata": {},
   "source": [
    "<h1> Objective:- Assessment Task 1: Problem solving task. </h1>\n",
    "\n",
    "<div style=\"text-align: right\"> Owner: <b>Karan Murjani </b> </div>"
   ]
  },
  {
   "cell_type": "markdown",
   "id": "4c1d0e3b",
   "metadata": {},
   "source": [
    "<h6> Importing all the required libraries </h6>"
   ]
  },
  {
   "cell_type": "code",
   "execution_count": 1,
   "id": "c5be1e1a",
   "metadata": {},
   "outputs": [],
   "source": [
    "import os\n",
    "import pandas as pd\n",
    "import numpy as np\n",
    "import matplotlib.pyplot as plt\n",
    "import warnings\n",
    "warnings.filterwarnings('ignore')\n",
    "pd.set_option('display.max_columns', None)\n",
    "pd.set_option('display.max_rows', None)\n",
    "os.chdir('/Users/karanmurjani/Downloads/')"
   ]
  },
  {
   "cell_type": "markdown",
   "id": "720383b1",
   "metadata": {},
   "source": [
    "<h4> Q1. Load the data from supplied data file. Remove the observations/samples where the heart diseases are not diagnosed by the Cardiologists. Print the data dimension before and after removing the observations/samples."
   ]
  },
  {
   "cell_type": "code",
   "execution_count": 2,
   "id": "c4e42d6b",
   "metadata": {},
   "outputs": [
    {
     "name": "stdout",
     "output_type": "stream",
     "text": [
      "(303, 14)\n"
     ]
    },
    {
     "data": {
      "text/html": [
       "<div>\n",
       "<style scoped>\n",
       "    .dataframe tbody tr th:only-of-type {\n",
       "        vertical-align: middle;\n",
       "    }\n",
       "\n",
       "    .dataframe tbody tr th {\n",
       "        vertical-align: top;\n",
       "    }\n",
       "\n",
       "    .dataframe thead th {\n",
       "        text-align: right;\n",
       "    }\n",
       "</style>\n",
       "<table border=\"1\" class=\"dataframe\">\n",
       "  <thead>\n",
       "    <tr style=\"text-align: right;\">\n",
       "      <th></th>\n",
       "      <th>age</th>\n",
       "      <th>sex</th>\n",
       "      <th>cp</th>\n",
       "      <th>trestbps</th>\n",
       "      <th>chol</th>\n",
       "      <th>fbs</th>\n",
       "      <th>restecg</th>\n",
       "      <th>thalach</th>\n",
       "      <th>exang</th>\n",
       "      <th>oldpeak</th>\n",
       "      <th>slope</th>\n",
       "      <th>ca</th>\n",
       "      <th>thal</th>\n",
       "      <th>state</th>\n",
       "    </tr>\n",
       "  </thead>\n",
       "  <tbody>\n",
       "    <tr>\n",
       "      <th>0</th>\n",
       "      <td>63.0</td>\n",
       "      <td>M</td>\n",
       "      <td>tap</td>\n",
       "      <td>145.0</td>\n",
       "      <td>233.0</td>\n",
       "      <td>yes</td>\n",
       "      <td>2.0</td>\n",
       "      <td>150.0</td>\n",
       "      <td>0.0</td>\n",
       "      <td>2.3</td>\n",
       "      <td>3.0</td>\n",
       "      <td>0.0</td>\n",
       "      <td>6.0</td>\n",
       "      <td>0.0</td>\n",
       "    </tr>\n",
       "    <tr>\n",
       "      <th>1</th>\n",
       "      <td>67.0</td>\n",
       "      <td>M</td>\n",
       "      <td>asp</td>\n",
       "      <td>160.0</td>\n",
       "      <td>286.0</td>\n",
       "      <td>no</td>\n",
       "      <td>2.0</td>\n",
       "      <td>108.0</td>\n",
       "      <td>1.0</td>\n",
       "      <td>1.5</td>\n",
       "      <td>2.0</td>\n",
       "      <td>3.0</td>\n",
       "      <td>3.0</td>\n",
       "      <td>2.0</td>\n",
       "    </tr>\n",
       "    <tr>\n",
       "      <th>2</th>\n",
       "      <td>67.0</td>\n",
       "      <td>M</td>\n",
       "      <td>asp</td>\n",
       "      <td>120.0</td>\n",
       "      <td>229.0</td>\n",
       "      <td>no</td>\n",
       "      <td>2.0</td>\n",
       "      <td>129.0</td>\n",
       "      <td>1.0</td>\n",
       "      <td>2.6</td>\n",
       "      <td>2.0</td>\n",
       "      <td>2.0</td>\n",
       "      <td>7.0</td>\n",
       "      <td>1.0</td>\n",
       "    </tr>\n",
       "    <tr>\n",
       "      <th>3</th>\n",
       "      <td>37.0</td>\n",
       "      <td>M</td>\n",
       "      <td>nap</td>\n",
       "      <td>130.0</td>\n",
       "      <td>250.0</td>\n",
       "      <td>no</td>\n",
       "      <td>0.0</td>\n",
       "      <td>187.0</td>\n",
       "      <td>0.0</td>\n",
       "      <td>3.5</td>\n",
       "      <td>3.0</td>\n",
       "      <td>0.0</td>\n",
       "      <td>3.0</td>\n",
       "      <td>0.0</td>\n",
       "    </tr>\n",
       "    <tr>\n",
       "      <th>4</th>\n",
       "      <td>41.0</td>\n",
       "      <td>F</td>\n",
       "      <td>aap</td>\n",
       "      <td>130.0</td>\n",
       "      <td>204.0</td>\n",
       "      <td>no</td>\n",
       "      <td>2.0</td>\n",
       "      <td>172.0</td>\n",
       "      <td>0.0</td>\n",
       "      <td>1.4</td>\n",
       "      <td>1.0</td>\n",
       "      <td>0.0</td>\n",
       "      <td>3.0</td>\n",
       "      <td>0.0</td>\n",
       "    </tr>\n",
       "  </tbody>\n",
       "</table>\n",
       "</div>"
      ],
      "text/plain": [
       "    age sex   cp  trestbps   chol  fbs  restecg  thalach  exang  oldpeak  \\\n",
       "0  63.0   M  tap     145.0  233.0  yes      2.0    150.0    0.0      2.3   \n",
       "1  67.0   M  asp     160.0  286.0   no      2.0    108.0    1.0      1.5   \n",
       "2  67.0   M  asp     120.0  229.0   no      2.0    129.0    1.0      2.6   \n",
       "3  37.0   M  nap     130.0  250.0   no      0.0    187.0    0.0      3.5   \n",
       "4  41.0   F  aap     130.0  204.0   no      2.0    172.0    0.0      1.4   \n",
       "\n",
       "   slope   ca  thal  state  \n",
       "0    3.0  0.0   6.0    0.0  \n",
       "1    2.0  3.0   3.0    2.0  \n",
       "2    2.0  2.0   7.0    1.0  \n",
       "3    3.0  0.0   3.0    0.0  \n",
       "4    1.0  0.0   3.0    0.0  "
      ]
     },
     "execution_count": 2,
     "metadata": {},
     "output_type": "execute_result"
    }
   ],
   "source": [
    "master_df = pd.read_csv('A1_heart_disease_dataset.csv')\n",
    "print(master_df.shape)\n",
    "master_df.head()"
   ]
  },
  {
   "cell_type": "code",
   "execution_count": 3,
   "id": "1c864386",
   "metadata": {},
   "outputs": [],
   "source": [
    "#Additional data cleaning\n",
    "master_df.columns= map(str.upper, master_df.columns) #making column names to upper case\n",
    "master_df[['STATE', 'RESTECG', 'SLOPE', 'THAL', 'EXANG']] = master_df[['STATE','RESTECG', 'SLOPE', 'THAL', 'EXANG']].astype(object) #Categorical Nominal columns"
   ]
  },
  {
   "cell_type": "code",
   "execution_count": 4,
   "id": "9ba045a3",
   "metadata": {},
   "outputs": [
    {
     "name": "stdout",
     "output_type": "stream",
     "text": [
      "Total number of rows before removing the sample are  303  and columns are  14\n",
      "Total number of rows after removing the sample are  295  and columns are  14\n"
     ]
    },
    {
     "data": {
      "text/html": [
       "<div>\n",
       "<style scoped>\n",
       "    .dataframe tbody tr th:only-of-type {\n",
       "        vertical-align: middle;\n",
       "    }\n",
       "\n",
       "    .dataframe tbody tr th {\n",
       "        vertical-align: top;\n",
       "    }\n",
       "\n",
       "    .dataframe thead th {\n",
       "        text-align: right;\n",
       "    }\n",
       "</style>\n",
       "<table border=\"1\" class=\"dataframe\">\n",
       "  <thead>\n",
       "    <tr style=\"text-align: right;\">\n",
       "      <th></th>\n",
       "      <th>AGE</th>\n",
       "      <th>SEX</th>\n",
       "      <th>CP</th>\n",
       "      <th>TRESTBPS</th>\n",
       "      <th>CHOL</th>\n",
       "      <th>FBS</th>\n",
       "      <th>RESTECG</th>\n",
       "      <th>THALACH</th>\n",
       "      <th>EXANG</th>\n",
       "      <th>OLDPEAK</th>\n",
       "      <th>SLOPE</th>\n",
       "      <th>CA</th>\n",
       "      <th>THAL</th>\n",
       "      <th>STATE</th>\n",
       "    </tr>\n",
       "  </thead>\n",
       "  <tbody>\n",
       "    <tr>\n",
       "      <th>0</th>\n",
       "      <td>63.0</td>\n",
       "      <td>M</td>\n",
       "      <td>tap</td>\n",
       "      <td>145.0</td>\n",
       "      <td>233.0</td>\n",
       "      <td>yes</td>\n",
       "      <td>2.0</td>\n",
       "      <td>150.0</td>\n",
       "      <td>0.0</td>\n",
       "      <td>2.3</td>\n",
       "      <td>3.0</td>\n",
       "      <td>0.0</td>\n",
       "      <td>6.0</td>\n",
       "      <td>0.0</td>\n",
       "    </tr>\n",
       "    <tr>\n",
       "      <th>1</th>\n",
       "      <td>67.0</td>\n",
       "      <td>M</td>\n",
       "      <td>asp</td>\n",
       "      <td>160.0</td>\n",
       "      <td>286.0</td>\n",
       "      <td>no</td>\n",
       "      <td>2.0</td>\n",
       "      <td>108.0</td>\n",
       "      <td>1.0</td>\n",
       "      <td>1.5</td>\n",
       "      <td>2.0</td>\n",
       "      <td>3.0</td>\n",
       "      <td>3.0</td>\n",
       "      <td>2.0</td>\n",
       "    </tr>\n",
       "  </tbody>\n",
       "</table>\n",
       "</div>"
      ],
      "text/plain": [
       "    AGE SEX   CP  TRESTBPS   CHOL  FBS RESTECG  THALACH EXANG  OLDPEAK SLOPE  \\\n",
       "0  63.0   M  tap     145.0  233.0  yes     2.0    150.0   0.0      2.3   3.0   \n",
       "1  67.0   M  asp     160.0  286.0   no     2.0    108.0   1.0      1.5   2.0   \n",
       "\n",
       "    CA THAL STATE  \n",
       "0  0.0  6.0   0.0  \n",
       "1  3.0  3.0   2.0  "
      ]
     },
     "execution_count": 4,
     "metadata": {},
     "output_type": "execute_result"
    }
   ],
   "source": [
    "cleaned_df = master_df.dropna(how='all') #Removes blank samples\n",
    "print('Total number of rows before removing the sample are ' ,master_df.shape[0], ' and columns are ', master_df.shape[1])\n",
    "print('Total number of rows after removing the sample are ' ,cleaned_df.shape[0], ' and columns are ', cleaned_df.shape[1])\n",
    "cleaned_df.head(2)"
   ]
  },
  {
   "cell_type": "markdown",
   "id": "62bf17bd",
   "metadata": {},
   "source": [
    "<h4> Q2. Display the number of rows and their indices that have missing data in one or more cells. Now, replace the missing data by the lowest value of the corresponding feature if it is a continuous variable. In case of categorical variable, remove the sample. Print the median values of all features before and after replacing missing data."
   ]
  },
  {
   "cell_type": "code",
   "execution_count": 5,
   "id": "71cdc635",
   "metadata": {},
   "outputs": [
    {
     "name": "stdout",
     "output_type": "stream",
     "text": [
      "Indices with null values in one or more cells:\n",
      " [6, 67, 115, 116, 132, 165, 218, 223, 228, 290, 302]\n",
      "\n",
      " Total number of rows containing null values in one or more cells are:  11\n"
     ]
    }
   ],
   "source": [
    "#1.1)\n",
    "null_rows = [index for index, row in cleaned_df.iterrows() if row.isnull().any()]\n",
    "print('Indices with null values in one or more cells:\\n' , null_rows)\n",
    "print('\\n Total number of rows containing null values in one or more cells are: ' ,len(null_rows))"
   ]
  },
  {
   "cell_type": "code",
   "execution_count": 6,
   "id": "30091a7d",
   "metadata": {},
   "outputs": [
    {
     "name": "stdout",
     "output_type": "stream",
     "text": [
      "Median before replacing missing data:\n",
      " \n",
      " AGE          55.0\n",
      "TRESTBPS    130.0\n",
      "CHOL        242.0\n",
      "THALACH     153.0\n",
      "OLDPEAK       0.7\n",
      "CA            0.0\n",
      "dtype: float64\n",
      "\n",
      " Median after replacing missing data:\n",
      " \n",
      " AGE          55.50\n",
      "TRESTBPS    130.00\n",
      "CHOL        242.50\n",
      "THALACH     152.00\n",
      "OLDPEAK       0.75\n",
      "CA            0.00\n",
      "dtype: float64\n"
     ]
    }
   ],
   "source": [
    "#1.2)\n",
    "def NullValueImputation(df1):\n",
    "    df2 = df1.copy()\n",
    "    for col in df2:\n",
    "        # select only float dtypes and replace with minimum values\n",
    "        if df2[col].dtype == \"float\":\n",
    "            df2[col] = df2[col].fillna(df2[col].min())\n",
    "        # select only categorical data and remove the sample where it is null\n",
    "        elif df2[col].dtype in (\"object\", \"int\"):\n",
    "            df2 = df2.dropna(subset=[col])\n",
    "    return df2\n",
    "\n",
    "final_df = NullValueImputation(cleaned_df) #Applying function\n",
    "\n",
    "CleanedContinuousVariable = cleaned_df.select_dtypes('float64')\n",
    "FinalContinuousVariable = final_df.select_dtypes('float64')\n",
    "\n",
    "print('Median before replacing missing data:\\n \\n',CleanedContinuousVariable.median())\n",
    "print('\\n Median after replacing missing data:\\n \\n',FinalContinuousVariable.median())"
   ]
  },
  {
   "cell_type": "markdown",
   "id": "3700663e",
   "metadata": {},
   "source": [
    "<h4> Q3. Is there any change in data type? If yes, convert them back to appropriate data types. Print all variables with corresponding data type."
   ]
  },
  {
   "cell_type": "code",
   "execution_count": 7,
   "id": "09e6a113",
   "metadata": {},
   "outputs": [
    {
     "name": "stdout",
     "output_type": "stream",
     "text": [
      "AGE         float64\n",
      "SEX          object\n",
      "CP           object\n",
      "TRESTBPS    float64\n",
      "CHOL        float64\n",
      "FBS          object\n",
      "RESTECG      object\n",
      "THALACH     float64\n",
      "EXANG        object\n",
      "OLDPEAK     float64\n",
      "SLOPE        object\n",
      "CA          float64\n",
      "THAL         object\n",
      "STATE        object\n",
      "dtype: object\n",
      "\n",
      " AGE           int64\n",
      "SEX          object\n",
      "CP           object\n",
      "TRESTBPS    float64\n",
      "CHOL        float64\n",
      "FBS          object\n",
      "RESTECG       int64\n",
      "THALACH     float64\n",
      "EXANG         int64\n",
      "OLDPEAK     float64\n",
      "SLOPE         int64\n",
      "CA          float64\n",
      "THAL          int64\n",
      "STATE         int64\n",
      "dtype: object\n",
      "\n",
      " \n",
      " Changes done in data types.\n"
     ]
    }
   ],
   "source": [
    "print(master_df.dtypes)\n",
    "final_df[['AGE', 'STATE', 'RESTECG', 'SLOPE', 'THAL', 'EXANG']] = final_df[['AGE','STATE', 'RESTECG', 'SLOPE', 'THAL', 'EXANG']].astype(int)\n",
    "print('\\n', final_df.dtypes)\n",
    "print('\\n \\n Changes done in data types.')"
   ]
  },
  {
   "cell_type": "markdown",
   "id": "a82041e8",
   "metadata": {},
   "source": [
    "<h4> Q4. Print the total numbers and ration of male and female patients who are at highest risk of heart disease."
   ]
  },
  {
   "cell_type": "code",
   "execution_count": 8,
   "id": "cf061092",
   "metadata": {},
   "outputs": [
    {
     "name": "stdout",
     "output_type": "stream",
     "text": [
      "Ratio of Male high risk patient to total patient is: 84.62\n",
      "Ratio of Female high risk patient to total patient is: 15.38\n"
     ]
    }
   ],
   "source": [
    "HighRiskPatients_df = final_df.query('STATE==4')\n",
    "MaleHighRiskPatient = len(HighRiskPatients_df.query('SEX==\"M\"')) #Count of Male high risk patient\n",
    "FemaleHighRiskPatient = len(HighRiskPatients_df.query('SEX==\"F\"')) #Count of Female high risk patient\n",
    "TotalPatient = len(HighRiskPatients_df) #Total high risk patients\n",
    "print('Ratio of Male high risk patient to total patient is:', round((MaleHighRiskPatient/TotalPatient)*100,2))\n",
    "print('Ratio of Female high risk patient to total patient is:', round((FemaleHighRiskPatient/TotalPatient)*100,2))"
   ]
  },
  {
   "cell_type": "markdown",
   "id": "1e0f6ffc",
   "metadata": {},
   "source": [
    "<h4> Q5. Is there any association between heart rate and severity of heart disease? Explain your results from given dataset."
   ]
  },
  {
   "cell_type": "code",
   "execution_count": 9,
   "id": "f2b52d1f",
   "metadata": {},
   "outputs": [
    {
     "name": "stdout",
     "output_type": "stream",
     "text": [
      "Degree of association between heart rate and severity of heart disease is:  -0.378\n"
     ]
    }
   ],
   "source": [
    "print('Degree of association between heart rate and severity of heart disease is: ', \n",
    "      round(final_df['THALACH'].corr(final_df['STATE']),3))      "
   ]
  },
  {
   "cell_type": "markdown",
   "id": "2e4bc6d6",
   "metadata": {},
   "source": [
    "Explanation\n",
    "\n",
    "<p> Here by correlation value we can say that it is low negative correlation between heart rate and severity of heart disease i.e. severity of heart disease is getting less affected by heart rate. <br> One unit of heart rate changes the severity by -0.378. </p>"
   ]
  },
  {
   "cell_type": "markdown",
   "id": "4294ad7f",
   "metadata": {},
   "source": [
    "<h4> Q6. Print the average cholesterol level for different number of blocked blood vessels across gender. Please report the pattern found in the result, if any."
   ]
  },
  {
   "cell_type": "code",
   "execution_count": 10,
   "id": "24ea78c7",
   "metadata": {},
   "outputs": [
    {
     "data": {
      "text/html": [
       "<div>\n",
       "<style scoped>\n",
       "    .dataframe tbody tr th:only-of-type {\n",
       "        vertical-align: middle;\n",
       "    }\n",
       "\n",
       "    .dataframe tbody tr th {\n",
       "        vertical-align: top;\n",
       "    }\n",
       "\n",
       "    .dataframe thead th {\n",
       "        text-align: right;\n",
       "    }\n",
       "</style>\n",
       "<table border=\"1\" class=\"dataframe\">\n",
       "  <thead>\n",
       "    <tr style=\"text-align: right;\">\n",
       "      <th></th>\n",
       "      <th>CA</th>\n",
       "      <th>SEX</th>\n",
       "      <th>CHOL</th>\n",
       "    </tr>\n",
       "  </thead>\n",
       "  <tbody>\n",
       "    <tr>\n",
       "      <th>0</th>\n",
       "      <td>0.0</td>\n",
       "      <td>F</td>\n",
       "      <td>255.95</td>\n",
       "    </tr>\n",
       "    <tr>\n",
       "      <th>1</th>\n",
       "      <td>0.0</td>\n",
       "      <td>M</td>\n",
       "      <td>235.72</td>\n",
       "    </tr>\n",
       "    <tr>\n",
       "      <th>2</th>\n",
       "      <td>1.0</td>\n",
       "      <td>F</td>\n",
       "      <td>271.79</td>\n",
       "    </tr>\n",
       "    <tr>\n",
       "      <th>3</th>\n",
       "      <td>1.0</td>\n",
       "      <td>M</td>\n",
       "      <td>241.31</td>\n",
       "    </tr>\n",
       "    <tr>\n",
       "      <th>4</th>\n",
       "      <td>2.0</td>\n",
       "      <td>F</td>\n",
       "      <td>275.45</td>\n",
       "    </tr>\n",
       "    <tr>\n",
       "      <th>5</th>\n",
       "      <td>2.0</td>\n",
       "      <td>M</td>\n",
       "      <td>244.21</td>\n",
       "    </tr>\n",
       "    <tr>\n",
       "      <th>6</th>\n",
       "      <td>3.0</td>\n",
       "      <td>F</td>\n",
       "      <td>272.50</td>\n",
       "    </tr>\n",
       "    <tr>\n",
       "      <th>7</th>\n",
       "      <td>3.0</td>\n",
       "      <td>M</td>\n",
       "      <td>264.87</td>\n",
       "    </tr>\n",
       "  </tbody>\n",
       "</table>\n",
       "</div>"
      ],
      "text/plain": [
       "    CA SEX    CHOL\n",
       "0  0.0   F  255.95\n",
       "1  0.0   M  235.72\n",
       "2  1.0   F  271.79\n",
       "3  1.0   M  241.31\n",
       "4  2.0   F  275.45\n",
       "5  2.0   M  244.21\n",
       "6  3.0   F  272.50\n",
       "7  3.0   M  264.87"
      ]
     },
     "execution_count": 10,
     "metadata": {},
     "output_type": "execute_result"
    }
   ],
   "source": [
    "final_df_groupped = final_df.groupby(['CA', 'SEX']).agg({'CHOL':'mean'}).round(2).reset_index()\n",
    "final_df_groupped"
   ]
  },
  {
   "cell_type": "markdown",
   "id": "fb2147c8",
   "metadata": {},
   "source": [
    "<p> Here from above dataframe we can say that <br> -> When number of blood vessels affected are max then Male have highest average of Cholesterol level of 272.45 mg/dl where as for female when number of blood vessel affected are 2 then Cholesterol level is max i.e. 275.45 mg/dl. <br> -> On an average Cholestrol level of females are higher than Male. <br> -> Minimum Cholesterol level for Male is 235.43 mg/dl and Maximum is 272.50 mg/dl <br> -> Minimum Cholesterol level for Female is 255.95 mg/dl and Maximum is 275.45 mg/dl </p>\n"
   ]
  },
  {
   "cell_type": "markdown",
   "id": "94427e82",
   "metadata": {},
   "source": [
    "<h4> Q7. Print the percentage of patients at risk of heart disease having abnormality in both ECG and blood sugar with asymptomatic chest pain."
   ]
  },
  {
   "cell_type": "code",
   "execution_count": 11,
   "id": "41db30a9",
   "metadata": {},
   "outputs": [
    {
     "name": "stdout",
     "output_type": "stream",
     "text": [
      "Ratio of patient at risk of heart disease with Abnormal blood sugar and ECG with asymptomatic chest pain is:\n",
      " 8.33\n"
     ]
    }
   ],
   "source": [
    "AbnormalBlood_ECG_AsymptomaticCP = final_df.query('FBS==\"yes\" and RESTECG!=0 and STATE!=0 and CP==\"asp\"')\n",
    "HeartDiseasePatient = final_df.query('STATE!=0')\n",
    "RatioBloodAsymptomatic = round((len(AbnormalBlood_ECG_AsymptomaticCP)/len(HeartDiseasePatient))*100, 2)\n",
    "print('Ratio of patient at risk of heart disease with Abnormal blood sugar and ECG with asymptomatic chest pain is:\\n',RatioBloodAsymptomatic)        "
   ]
  },
  {
   "cell_type": "markdown",
   "id": "0a21aa32",
   "metadata": {},
   "source": [
    "<h4> Q8. Calculate and print the average blood pressure of all observations with non-flat ST slopes of ECG."
   ]
  },
  {
   "cell_type": "code",
   "execution_count": 12,
   "id": "fd706b03",
   "metadata": {},
   "outputs": [
    {
     "name": "stdout",
     "output_type": "stream",
     "text": [
      "Average Blood Pressure with non-flat ST slopes of ECG is: 130.99\n"
     ]
    }
   ],
   "source": [
    "averageBPS = round((final_df.query('SLOPE!=2')['TRESTBPS'].mean()),2)\n",
    "print('Average Blood Pressure with non-flat ST slopes of ECG is:',averageBPS)"
   ]
  },
  {
   "cell_type": "markdown",
   "id": "aaf507ef",
   "metadata": {},
   "source": [
    "<h4> Q9. Create and print a dataframe of the heart rate, blood pressure and cholesterol levels for different age\n",
    "groups (based on 10 years interval)."
   ]
  },
  {
   "cell_type": "code",
   "execution_count": 13,
   "id": "2d6444f9",
   "metadata": {},
   "outputs": [
    {
     "data": {
      "text/html": [
       "<div>\n",
       "<style scoped>\n",
       "    .dataframe tbody tr th:only-of-type {\n",
       "        vertical-align: middle;\n",
       "    }\n",
       "\n",
       "    .dataframe tbody tr th {\n",
       "        vertical-align: top;\n",
       "    }\n",
       "\n",
       "    .dataframe thead th {\n",
       "        text-align: right;\n",
       "    }\n",
       "</style>\n",
       "<table border=\"1\" class=\"dataframe\">\n",
       "  <thead>\n",
       "    <tr style=\"text-align: right;\">\n",
       "      <th></th>\n",
       "      <th>AGE_GROUP</th>\n",
       "      <th>TRESTBPS</th>\n",
       "      <th>CHOL</th>\n",
       "      <th>THALACH</th>\n",
       "    </tr>\n",
       "  </thead>\n",
       "  <tbody>\n",
       "    <tr>\n",
       "      <th>0</th>\n",
       "      <td>30-39</td>\n",
       "      <td>124.29</td>\n",
       "      <td>219.79</td>\n",
       "      <td>169.50</td>\n",
       "    </tr>\n",
       "    <tr>\n",
       "      <th>1</th>\n",
       "      <td>40-49</td>\n",
       "      <td>123.87</td>\n",
       "      <td>236.74</td>\n",
       "      <td>159.43</td>\n",
       "    </tr>\n",
       "    <tr>\n",
       "      <th>2</th>\n",
       "      <td>50-59</td>\n",
       "      <td>133.45</td>\n",
       "      <td>248.03</td>\n",
       "      <td>147.54</td>\n",
       "    </tr>\n",
       "    <tr>\n",
       "      <th>3</th>\n",
       "      <td>60-69</td>\n",
       "      <td>135.26</td>\n",
       "      <td>259.63</td>\n",
       "      <td>140.17</td>\n",
       "    </tr>\n",
       "    <tr>\n",
       "      <th>4</th>\n",
       "      <td>70-79</td>\n",
       "      <td>135.80</td>\n",
       "      <td>249.60</td>\n",
       "      <td>130.50</td>\n",
       "    </tr>\n",
       "  </tbody>\n",
       "</table>\n",
       "</div>"
      ],
      "text/plain": [
       "  AGE_GROUP  TRESTBPS    CHOL  THALACH\n",
       "0     30-39    124.29  219.79   169.50\n",
       "1     40-49    123.87  236.74   159.43\n",
       "2     50-59    133.45  248.03   147.54\n",
       "3     60-69    135.26  259.63   140.17\n",
       "4     70-79    135.80  249.60   130.50"
      ]
     },
     "execution_count": 13,
     "metadata": {},
     "output_type": "execute_result"
    }
   ],
   "source": [
    "AgeGroup_final_df = final_df.copy()\n",
    "bins= [30,40,50,60,70,80]\n",
    "labels = ['30-39', '40-49','50-59', '60-69', '70-79']\n",
    "AgeGroup_final_df['AGE_GROUP'] = pd.cut(AgeGroup_final_df['AGE'], bins=bins, labels=labels, right=False)\n",
    "AgeGroup_final_df_groupped = AgeGroup_final_df.groupby('AGE_GROUP').agg({'TRESTBPS':'mean', 'CHOL':'mean', 'THALACH':'mean'}).round(2).reset_index()\n",
    "AgeGroup_final_df_groupped"
   ]
  },
  {
   "cell_type": "markdown",
   "id": "7ce0c5f2",
   "metadata": {},
   "source": [
    "<h4> Q10. Find the average cholesterol level of across gender for each age group. Please explain the results."
   ]
  },
  {
   "cell_type": "code",
   "execution_count": 14,
   "id": "52f896e0",
   "metadata": {},
   "outputs": [
    {
     "name": "stdout",
     "output_type": "stream",
     "text": [
      "Average Cholesterol level in mg/dl across different age groups and gender:\n"
     ]
    },
    {
     "data": {
      "text/html": [
       "<div>\n",
       "<style scoped>\n",
       "    .dataframe tbody tr th:only-of-type {\n",
       "        vertical-align: middle;\n",
       "    }\n",
       "\n",
       "    .dataframe tbody tr th {\n",
       "        vertical-align: top;\n",
       "    }\n",
       "\n",
       "    .dataframe thead th {\n",
       "        text-align: right;\n",
       "    }\n",
       "</style>\n",
       "<table border=\"1\" class=\"dataframe\">\n",
       "  <thead>\n",
       "    <tr style=\"text-align: right;\">\n",
       "      <th></th>\n",
       "      <th>AGE_GROUP</th>\n",
       "      <th>SEX</th>\n",
       "      <th>CHOL</th>\n",
       "    </tr>\n",
       "  </thead>\n",
       "  <tbody>\n",
       "    <tr>\n",
       "      <th>0</th>\n",
       "      <td>30-39</td>\n",
       "      <td>F</td>\n",
       "      <td>205.40</td>\n",
       "    </tr>\n",
       "    <tr>\n",
       "      <th>1</th>\n",
       "      <td>30-39</td>\n",
       "      <td>M</td>\n",
       "      <td>227.78</td>\n",
       "    </tr>\n",
       "    <tr>\n",
       "      <th>2</th>\n",
       "      <td>40-49</td>\n",
       "      <td>F</td>\n",
       "      <td>234.53</td>\n",
       "    </tr>\n",
       "    <tr>\n",
       "      <th>3</th>\n",
       "      <td>40-49</td>\n",
       "      <td>M</td>\n",
       "      <td>237.58</td>\n",
       "    </tr>\n",
       "    <tr>\n",
       "      <th>4</th>\n",
       "      <td>50-59</td>\n",
       "      <td>F</td>\n",
       "      <td>269.85</td>\n",
       "    </tr>\n",
       "    <tr>\n",
       "      <th>5</th>\n",
       "      <td>50-59</td>\n",
       "      <td>M</td>\n",
       "      <td>239.51</td>\n",
       "    </tr>\n",
       "    <tr>\n",
       "      <th>6</th>\n",
       "      <td>60-69</td>\n",
       "      <td>F</td>\n",
       "      <td>282.20</td>\n",
       "    </tr>\n",
       "    <tr>\n",
       "      <th>7</th>\n",
       "      <td>60-69</td>\n",
       "      <td>M</td>\n",
       "      <td>244.91</td>\n",
       "    </tr>\n",
       "    <tr>\n",
       "      <th>8</th>\n",
       "      <td>70-79</td>\n",
       "      <td>F</td>\n",
       "      <td>236.40</td>\n",
       "    </tr>\n",
       "    <tr>\n",
       "      <th>9</th>\n",
       "      <td>70-79</td>\n",
       "      <td>M</td>\n",
       "      <td>262.80</td>\n",
       "    </tr>\n",
       "  </tbody>\n",
       "</table>\n",
       "</div>"
      ],
      "text/plain": [
       "  AGE_GROUP SEX    CHOL\n",
       "0     30-39   F  205.40\n",
       "1     30-39   M  227.78\n",
       "2     40-49   F  234.53\n",
       "3     40-49   M  237.58\n",
       "4     50-59   F  269.85\n",
       "5     50-59   M  239.51\n",
       "6     60-69   F  282.20\n",
       "7     60-69   M  244.91\n",
       "8     70-79   F  236.40\n",
       "9     70-79   M  262.80"
      ]
     },
     "execution_count": 14,
     "metadata": {},
     "output_type": "execute_result"
    }
   ],
   "source": [
    "print('Average Cholesterol level in mg/dl across different age groups and gender:')\n",
    "AgeGroup_final_df.groupby(['AGE_GROUP', 'SEX']).agg({'CHOL':'mean'}).round(2).reset_index()"
   ]
  },
  {
   "cell_type": "markdown",
   "id": "f7d34632",
   "metadata": {},
   "source": [
    "Explantion:\n",
    "    \n",
    "<p> -> Elder patients have higher cholesterol level compared to younger patients. \n",
    "<br> -> Highest cholesterol level is 282.20 mg/dl for female and for male it is only 262.80 mg/dl.\n",
    "<br> -> Lowest cholesterol level is 205.40 mg/dl for female whereas 227.78 mg/dl is for male.\n",
    "</p>"
   ]
  },
  {
   "cell_type": "markdown",
   "id": "1371a382",
   "metadata": {},
   "source": [
    "<h4> Q11. Draw two scatter plots of cholesterol level, one against blood pressure and another against heart rate. Draw them in two subplots of the same plot."
   ]
  },
  {
   "cell_type": "code",
   "execution_count": 15,
   "id": "b43a5b76",
   "metadata": {},
   "outputs": [
    {
     "data": {
      "image/png": "[encoded data removed]",
      "text/plain": [
       "<Figure size 720x432 with 2 Axes>"
      ]
     },
     "metadata": {
      "needs_background": "light"
     },
     "output_type": "display_data"
    }
   ],
   "source": [
    "fig, ax = plt.subplots(2, figsize=(10, 6))\n",
    "ax[0].scatter(x = final_df['CHOL'], y = final_df['TRESTBPS'])\n",
    "ax[0].set_xlabel(\"Cholesterol Level in mg/dl\")\n",
    "ax[0].set_ylabel(\"Blood Pressure\")\n",
    "\n",
    "ax[1].scatter(x = final_df['CHOL'], y = final_df['THALACH'])\n",
    "ax[1].set_xlabel(\"Cholesterol Level in mg/dl\")\n",
    "ax[1].set_ylabel(\"Heart Rate in mm Hg\")\n",
    "\n",
    "plt.show()"
   ]
  },
  {
   "cell_type": "markdown",
   "id": "642f3592",
   "metadata": {},
   "source": [
    "<h4> Q12. Visualize the cholesterol level against number of blood vessel blocked for male and female using line plot. Explain the graph base on your observation."
   ]
  },
  {
   "cell_type": "code",
   "execution_count": 16,
   "id": "4b6b66bf",
   "metadata": {},
   "outputs": [
    {
     "data": {
      "image/png": "[encoded data removed]",
      "text/plain": [
       "<Figure size 576x432 with 1 Axes>"
      ]
     },
     "metadata": {
      "needs_background": "light"
     },
     "output_type": "display_data"
    }
   ],
   "source": [
    "Male_BloodVessels= final_df_groupped.query('SEX==\"M\"')\n",
    "Female_BloodVessels = final_df_groupped.query('SEX==\"F\"')\n",
    "\n",
    "plt.figure(figsize=(8,6))\n",
    "plt.plot(Female_BloodVessels['CHOL'], Female_BloodVessels['CA'], label = 'Male Patient')\n",
    "plt.plot(Male_BloodVessels['CHOL'], Male_BloodVessels['CA'], label = 'Female Patient')\n",
    "plt.legend()\n",
    "plt.xlabel('Cholesterol Level in mg/dl.')\n",
    "plt.ylabel('Blocked blood vessel affected.')\n",
    "plt.show()"
   ]
  },
  {
   "cell_type": "markdown",
   "id": "b66b7b69",
   "metadata": {},
   "source": [
    "Explanation\n",
    "\n",
    "<p> -> Female have higher cholesterol level compared to male and as number of blocked blood vessel increases then cholesterol level also increases.\n",
    "<br> -> Male have highest of 264.87 mg/dl cholesterol level whereas female have highest of 275.45 mg/dl cholesterol level.\n",
    "<br> -> Lowest of cholesterol level for male is 235.72 mg/dl whereas for female it is 255.95 mg/dl"
   ]
  },
  {
   "cell_type": "markdown",
   "id": "6084d70e",
   "metadata": {},
   "source": [
    "<h4> Q13. Draw a group bar diagram of heart rate, blood pressure and total number of patients, based on age groups defined in question 9. Explain your observation from the graph."
   ]
  },
  {
   "cell_type": "code",
   "execution_count": 17,
   "id": "83cb9f0e",
   "metadata": {},
   "outputs": [
    {
     "data": {
      "text/plain": [
       "<AxesSubplot:title={'center':'Grouped Bar Graph with dataframe'}, xlabel='AGE_GROUP'>"
      ]
     },
     "execution_count": 17,
     "metadata": {},
     "output_type": "execute_result"
    },
    {
     "data": {
      "image/png": "[encoded data removed]",
      "text/plain": [
       "<Figure size 576x576 with 1 Axes>"
      ]
     },
     "metadata": {
      "needs_background": "light"
     },
     "output_type": "display_data"
    }
   ],
   "source": [
    "final_df_groupped2 = AgeGroup_final_df.groupby('AGE_GROUP').agg({'THALACH':'mean', 'TRESTBPS':'mean', \n",
    "                                                        'AGE':'count'}).rename(columns={'AGE':'TOTAL_PATIENTS'}).reset_index()\n",
    "# fig, ax = plt.subplots(figsize = (10,7))\n",
    "final_df_groupped2.plot(x='AGE_GROUP',\n",
    "#                                    subplots(1,2),\n",
    "        kind='bar',\n",
    "        stacked=False,\n",
    "        figsize=(8,8),\n",
    "        title='Grouped Bar Graph with dataframe')\n"
   ]
  },
  {
   "cell_type": "markdown",
   "id": "3d735aff",
   "metadata": {},
   "source": [
    "Explanation\n",
    "\n",
    "<p> -> Our data contains highest patients from 50-59 age group and their average heart rate is 169.5 and 133.45 is their average blood pressure mm Hg.\n",
    "<br> -> Younger adults have high heart rate and less blood pressure whereas adults with more than 60 years of age has lowest heart rate and highest blood pressure.\n",
    "</p> -> Our data contains only 10 patient from 70-79 age group and their average heart rate is  and 135.80 is their average blood pressure in mm Hg."
   ]
  },
  {
   "cell_type": "markdown",
   "id": "9f95a057",
   "metadata": {},
   "source": [
    "<h4> Q14. Add two more columns named [‘num_male_patients’, ‘num_female_patients’] and having values of the number of male and female patients affected by heart disease in each age group respectively. Save the combined dataset to a csv file named ‘age_group_stat.csv’ in the same directory of your code file."
   ]
  },
  {
   "cell_type": "code",
   "execution_count": 18,
   "id": "1a7feb77",
   "metadata": {},
   "outputs": [
    {
     "data": {
      "text/html": [
       "<div>\n",
       "<style scoped>\n",
       "    .dataframe tbody tr th:only-of-type {\n",
       "        vertical-align: middle;\n",
       "    }\n",
       "\n",
       "    .dataframe tbody tr th {\n",
       "        vertical-align: top;\n",
       "    }\n",
       "\n",
       "    .dataframe thead th {\n",
       "        text-align: right;\n",
       "    }\n",
       "</style>\n",
       "<table border=\"1\" class=\"dataframe\">\n",
       "  <thead>\n",
       "    <tr style=\"text-align: right;\">\n",
       "      <th></th>\n",
       "      <th>AGE_GROUP</th>\n",
       "      <th>TRESTBPS</th>\n",
       "      <th>CHOL</th>\n",
       "      <th>THALACH</th>\n",
       "      <th>Num_FemalePatients</th>\n",
       "      <th>Num_MalePatients</th>\n",
       "    </tr>\n",
       "  </thead>\n",
       "  <tbody>\n",
       "    <tr>\n",
       "      <th>0</th>\n",
       "      <td>30-39</td>\n",
       "      <td>124.29</td>\n",
       "      <td>219.79</td>\n",
       "      <td>169.50</td>\n",
       "      <td>0</td>\n",
       "      <td>4</td>\n",
       "    </tr>\n",
       "    <tr>\n",
       "      <th>1</th>\n",
       "      <td>40-49</td>\n",
       "      <td>123.87</td>\n",
       "      <td>236.74</td>\n",
       "      <td>159.43</td>\n",
       "      <td>1</td>\n",
       "      <td>20</td>\n",
       "    </tr>\n",
       "    <tr>\n",
       "      <th>2</th>\n",
       "      <td>50-59</td>\n",
       "      <td>133.45</td>\n",
       "      <td>248.03</td>\n",
       "      <td>147.54</td>\n",
       "      <td>10</td>\n",
       "      <td>48</td>\n",
       "    </tr>\n",
       "    <tr>\n",
       "      <th>3</th>\n",
       "      <td>60-69</td>\n",
       "      <td>135.26</td>\n",
       "      <td>259.63</td>\n",
       "      <td>140.17</td>\n",
       "      <td>11</td>\n",
       "      <td>34</td>\n",
       "    </tr>\n",
       "    <tr>\n",
       "      <th>4</th>\n",
       "      <td>70-79</td>\n",
       "      <td>135.80</td>\n",
       "      <td>249.60</td>\n",
       "      <td>130.50</td>\n",
       "      <td>0</td>\n",
       "      <td>4</td>\n",
       "    </tr>\n",
       "  </tbody>\n",
       "</table>\n",
       "</div>"
      ],
      "text/plain": [
       "  AGE_GROUP  TRESTBPS    CHOL  THALACH  Num_FemalePatients  Num_MalePatients\n",
       "0     30-39    124.29  219.79   169.50                   0                 4\n",
       "1     40-49    123.87  236.74   159.43                   1                20\n",
       "2     50-59    133.45  248.03   147.54                  10                48\n",
       "3     60-69    135.26  259.63   140.17                  11                34\n",
       "4     70-79    135.80  249.60   130.50                   0                 4"
      ]
     },
     "execution_count": 18,
     "metadata": {},
     "output_type": "execute_result"
    }
   ],
   "source": [
    "TotalPatient_df = AgeGroup_final_df.query('STATE!=0').groupby(['AGE_GROUP', 'SEX']).agg({'AGE':'count'}).rename(columns = {'AGE':'TotalPatients'}).reset_index()\n",
    "table = pd.pivot_table(TotalPatient_df, values='TotalPatients', index=['AGE_GROUP'], columns=['SEX'], aggfunc=np.sum)\n",
    "table = table.reset_index().rename(columns={'F':'Num_FemalePatients', 'M':'Num_MalePatients'}).rename_axis('', axis='columns')\n",
    "AgeGroupStat_df = AgeGroup_final_df_groupped.merge(table, on='AGE_GROUP', how='left')\n",
    "AgeGroupStat_df.to_csv('age_group_stat.csv', index=False)\n",
    "AgeGroupStat_df"
   ]
  },
  {
   "cell_type": "markdown",
   "id": "b4d64edb",
   "metadata": {},
   "source": [
    "<h4> Q15. Replace all the rows where the ‘state’ is null with its immediate previous row. Finally, display and save the resultant dataset to a csv file named ‘clean_data.csv’ in the same directory of your code file."
   ]
  },
  {
   "cell_type": "code",
   "execution_count": 19,
   "id": "9fdd728e",
   "metadata": {},
   "outputs": [
    {
     "data": {
      "text/html": [
       "<div>\n",
       "<style scoped>\n",
       "    .dataframe tbody tr th:only-of-type {\n",
       "        vertical-align: middle;\n",
       "    }\n",
       "\n",
       "    .dataframe tbody tr th {\n",
       "        vertical-align: top;\n",
       "    }\n",
       "\n",
       "    .dataframe thead th {\n",
       "        text-align: right;\n",
       "    }\n",
       "</style>\n",
       "<table border=\"1\" class=\"dataframe\">\n",
       "  <thead>\n",
       "    <tr style=\"text-align: right;\">\n",
       "      <th></th>\n",
       "      <th>AGE</th>\n",
       "      <th>SEX</th>\n",
       "      <th>CP</th>\n",
       "      <th>TRESTBPS</th>\n",
       "      <th>CHOL</th>\n",
       "      <th>FBS</th>\n",
       "      <th>RESTECG</th>\n",
       "      <th>THALACH</th>\n",
       "      <th>EXANG</th>\n",
       "      <th>OLDPEAK</th>\n",
       "      <th>SLOPE</th>\n",
       "      <th>CA</th>\n",
       "      <th>THAL</th>\n",
       "      <th>STATE</th>\n",
       "    </tr>\n",
       "  </thead>\n",
       "  <tbody>\n",
       "    <tr>\n",
       "      <th>0</th>\n",
       "      <td>63.0</td>\n",
       "      <td>M</td>\n",
       "      <td>tap</td>\n",
       "      <td>145.0</td>\n",
       "      <td>233.0</td>\n",
       "      <td>yes</td>\n",
       "      <td>2.0</td>\n",
       "      <td>150.0</td>\n",
       "      <td>0.0</td>\n",
       "      <td>2.3</td>\n",
       "      <td>3.0</td>\n",
       "      <td>0.0</td>\n",
       "      <td>6.0</td>\n",
       "      <td>0.0</td>\n",
       "    </tr>\n",
       "    <tr>\n",
       "      <th>1</th>\n",
       "      <td>67.0</td>\n",
       "      <td>M</td>\n",
       "      <td>asp</td>\n",
       "      <td>160.0</td>\n",
       "      <td>286.0</td>\n",
       "      <td>no</td>\n",
       "      <td>2.0</td>\n",
       "      <td>108.0</td>\n",
       "      <td>1.0</td>\n",
       "      <td>1.5</td>\n",
       "      <td>2.0</td>\n",
       "      <td>3.0</td>\n",
       "      <td>3.0</td>\n",
       "      <td>2.0</td>\n",
       "    </tr>\n",
       "    <tr>\n",
       "      <th>2</th>\n",
       "      <td>67.0</td>\n",
       "      <td>M</td>\n",
       "      <td>asp</td>\n",
       "      <td>120.0</td>\n",
       "      <td>229.0</td>\n",
       "      <td>no</td>\n",
       "      <td>2.0</td>\n",
       "      <td>129.0</td>\n",
       "      <td>1.0</td>\n",
       "      <td>2.6</td>\n",
       "      <td>2.0</td>\n",
       "      <td>2.0</td>\n",
       "      <td>7.0</td>\n",
       "      <td>1.0</td>\n",
       "    </tr>\n",
       "    <tr>\n",
       "      <th>3</th>\n",
       "      <td>37.0</td>\n",
       "      <td>M</td>\n",
       "      <td>nap</td>\n",
       "      <td>130.0</td>\n",
       "      <td>250.0</td>\n",
       "      <td>no</td>\n",
       "      <td>0.0</td>\n",
       "      <td>187.0</td>\n",
       "      <td>0.0</td>\n",
       "      <td>3.5</td>\n",
       "      <td>3.0</td>\n",
       "      <td>0.0</td>\n",
       "      <td>3.0</td>\n",
       "      <td>0.0</td>\n",
       "    </tr>\n",
       "    <tr>\n",
       "      <th>4</th>\n",
       "      <td>41.0</td>\n",
       "      <td>F</td>\n",
       "      <td>aap</td>\n",
       "      <td>130.0</td>\n",
       "      <td>204.0</td>\n",
       "      <td>no</td>\n",
       "      <td>2.0</td>\n",
       "      <td>172.0</td>\n",
       "      <td>0.0</td>\n",
       "      <td>1.4</td>\n",
       "      <td>1.0</td>\n",
       "      <td>0.0</td>\n",
       "      <td>3.0</td>\n",
       "      <td>0.0</td>\n",
       "    </tr>\n",
       "  </tbody>\n",
       "</table>\n",
       "</div>"
      ],
      "text/plain": [
       "    AGE SEX   CP  TRESTBPS   CHOL  FBS RESTECG  THALACH EXANG  OLDPEAK SLOPE  \\\n",
       "0  63.0   M  tap     145.0  233.0  yes     2.0    150.0   0.0      2.3   3.0   \n",
       "1  67.0   M  asp     160.0  286.0   no     2.0    108.0   1.0      1.5   2.0   \n",
       "2  67.0   M  asp     120.0  229.0   no     2.0    129.0   1.0      2.6   2.0   \n",
       "3  37.0   M  nap     130.0  250.0   no     0.0    187.0   0.0      3.5   3.0   \n",
       "4  41.0   F  aap     130.0  204.0   no     2.0    172.0   0.0      1.4   1.0   \n",
       "\n",
       "    CA THAL  STATE  \n",
       "0  0.0  6.0    0.0  \n",
       "1  3.0  3.0    2.0  \n",
       "2  2.0  7.0    1.0  \n",
       "3  0.0  3.0    0.0  \n",
       "4  0.0  3.0    0.0  "
      ]
     },
     "execution_count": 19,
     "metadata": {},
     "output_type": "execute_result"
    }
   ],
   "source": [
    "clean_df = master_df.dropna(how='all')\n",
    "clean_df['STATE'] = clean_df['STATE'].fillna(method='ffill')\n",
    "clean_df.reset_index(inplace=True, drop=True)\n",
    "clean_df.to_csv('clean_data.csv')\n",
    "clean_df.head()"
   ]
  },
  {
   "cell_type": "markdown",
   "id": "349444dc",
   "metadata": {},
   "source": [
    "![Alt Text](https://media.giphy.com/media/H4zC1A2FZ0ViA6GcxD/giphy.gif)"
   ]
  }
 ],
 "metadata": {
  "kernelspec": {
   "display_name": "Python 3",
   "language": "python",
   "name": "python3"
  },
  "language_info": {
   "codemirror_mode": {
    "name": "ipython",
    "version": 3
   },
   "file_extension": ".py",
   "mimetype": "text/x-python",
   "name": "python",
   "nbconvert_exporter": "python",
   "pygments_lexer": "ipython3",
   "version": "3.8.8"
  }
 },
 "nbformat": 4,
 "nbformat_minor": 5
}
